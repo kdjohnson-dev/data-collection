{
 "cells": [
  {
   "cell_type": "code",
   "execution_count": 1,
   "metadata": {},
   "outputs": [],
   "source": [
    "from openpyxl import load_workbook\n",
    "from openpyxl.styles import Font, Color, colors, Alignment, Side, Border"
   ]
  },
  {
   "cell_type": "code",
   "execution_count": 2,
   "metadata": {},
   "outputs": [],
   "source": [
    "workbook = load_workbook(filename='../data/sample.xlsx')\n",
    "sheet = workbook.active"
   ]
  },
  {
   "cell_type": "code",
   "execution_count": 3,
   "metadata": {},
   "outputs": [],
   "source": [
    "# source code for openpyxl.styles.colors\n",
    "# https://openpyxl.readthedocs.io/en/stable/_modules/openpyxl/styles/colors.html\n",
    "RED = Color(indexed=2)\n",
    "\n",
    "bold_font = Font(bold=True)\n",
    "big_red_text = Font(color=RED, size=20)\n",
    "center_aligned_text = Alignment(horizontal=\"center\")\n",
    "double_border_side = Side(border_style=\"double\")\n",
    "square_border = Border(top=double_border_side,\n",
    "                       right=double_border_side,\n",
    "                       bottom=double_border_side,\n",
    "                       left=double_border_side)"
   ]
  },
  {
   "cell_type": "code",
   "execution_count": 4,
   "metadata": {},
   "outputs": [],
   "source": [
    "sheet[\"A2\"].font = bold_font\n",
    "sheet[\"A3\"].font = big_red_text\n",
    "sheet[\"A4\"].alignment = center_aligned_text\n",
    "sheet[\"A5\"].border = square_border\n",
    "workbook.save(filename='../data/sample_styles.xlsx')"
   ]
  },
  {
   "cell_type": "code",
   "execution_count": 5,
   "metadata": {},
   "outputs": [],
   "source": [
    "from openpyxl.styles import NamedStyle"
   ]
  },
  {
   "cell_type": "code",
   "execution_count": 6,
   "metadata": {},
   "outputs": [],
   "source": [
    "header = NamedStyle(name=\"header\")\n",
    "header.font = Font(bold=True)\n",
    "header.border = Border(bottom=Side(border_style=\"thin\"))\n",
    "header.alignment = Alignment(horizontal=\"center\", vertical=\"center\")\n",
    "\n",
    "header_row = sheet[1]\n",
    "for cell in header_row:\n",
    "    cell.style = header\n",
    "\n",
    "workbook.save(filename=\"../data/sample_styles.xlsx\")"
   ]
  }
 ],
 "metadata": {
  "kernelspec": {
   "display_name": "Python 3",
   "language": "python",
   "name": "python3"
  },
  "language_info": {
   "codemirror_mode": {
    "name": "ipython",
    "version": 3
   },
   "file_extension": ".py",
   "mimetype": "text/x-python",
   "name": "python",
   "nbconvert_exporter": "python",
   "pygments_lexer": "ipython3",
   "version": "3.8.5"
  }
 },
 "nbformat": 4,
 "nbformat_minor": 4
}
