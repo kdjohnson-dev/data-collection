{
 "cells": [
  {
   "cell_type": "code",
   "execution_count": 1,
   "metadata": {},
   "outputs": [],
   "source": [
    "import pandas as pd\n",
    "from openpyxl import Workbook, load_workbook\n",
    "from openpyxl.utils.dataframe import dataframe_to_rows\n",
    "from ipynb.fs.full.mapping_file import REVIEW_ID"
   ]
  },
  {
   "cell_type": "code",
   "execution_count": 2,
   "metadata": {},
   "outputs": [],
   "source": [
    "data = {\n",
    "    'Product Name': ['Product 1', 'Product 2'],\n",
    "    'Sales Month 1': [10, 20],\n",
    "    'Sales Month 2': [5, 35]\n",
    "}\n",
    "\n",
    "df = pd.DataFrame(data)\n",
    "\n",
    "# Convert dataframe to worksheet\n",
    "workbook = Workbook()\n",
    "sheet = workbook.active\n",
    "\n",
    "for row in dataframe_to_rows(df, index=False, header=True):\n",
    "    sheet.append(row)\n",
    "    \n",
    "workbook.save('../data/pandas.xlsx')"
   ]
  },
  {
   "cell_type": "code",
   "execution_count": 3,
   "metadata": {},
   "outputs": [],
   "source": [
    "# Speadsheet to pandas dataframe\n",
    "workbook = load_workbook('../data/sample.xlsx')\n",
    "sheet = workbook.active\n",
    "\n",
    "data = sheet.values\n",
    "\n",
    "# Set the first row as the headers\n",
    "cols = next(data)\n",
    "data = list(data)\n",
    "\n",
    "# Set index\n",
    "idx = [row[REVIEW_ID] for row in data]\n",
    "\n",
    "df = pd.DataFrame(data, index=idx, columns=cols)\n",
    "\n",
    "# df.head(3)"
   ]
  }
 ],
 "metadata": {
  "kernelspec": {
   "display_name": "Python 3",
   "language": "python",
   "name": "python3"
  },
  "language_info": {
   "codemirror_mode": {
    "name": "ipython",
    "version": 3
   },
   "file_extension": ".py",
   "mimetype": "text/x-python",
   "name": "python",
   "nbconvert_exporter": "python",
   "pygments_lexer": "ipython3",
   "version": "3.8.5"
  }
 },
 "nbformat": 4,
 "nbformat_minor": 4
}
