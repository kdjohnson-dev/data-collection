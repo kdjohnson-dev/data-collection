{
 "cells": [
  {
   "cell_type": "code",
   "execution_count": 1,
   "metadata": {},
   "outputs": [],
   "source": [
    "from openpyxl import load_workbook"
   ]
  },
  {
   "cell_type": "code",
   "execution_count": 2,
   "metadata": {},
   "outputs": [],
   "source": [
    "workbook = load_workbook(filename='../data/sample-workbook.xlsx')\n",
    "sheet = workbook.active"
   ]
  },
  {
   "cell_type": "code",
   "execution_count": 3,
   "metadata": {},
   "outputs": [],
   "source": [
    "def print_rows():\n",
    "    for row in sheet.iter_rows(values_only=True):\n",
    "        print(row)"
   ]
  },
  {
   "cell_type": "code",
   "execution_count": 4,
   "metadata": {},
   "outputs": [
    {
     "name": "stdout",
     "output_type": "stream",
     "text": [
      "('Section:', 'Topic:')\n",
      "('3', 'Appending Data')\n"
     ]
    }
   ],
   "source": [
    "print_rows()"
   ]
  },
  {
   "cell_type": "code",
   "execution_count": 5,
   "metadata": {},
   "outputs": [
    {
     "name": "stdout",
     "output_type": "stream",
     "text": [
      "(None, 'Section:', 'Topic:')\n",
      "(None, '3', 'Appending Data')\n"
     ]
    }
   ],
   "source": [
    "# insert/delete columns\n",
    "sheet.insert_cols(idx=1)\n",
    "print_rows()"
   ]
  },
  {
   "cell_type": "code",
   "execution_count": 6,
   "metadata": {},
   "outputs": [
    {
     "name": "stdout",
     "output_type": "stream",
     "text": [
      "(None, 'Section:', None, None, None, None, 'Topic:')\n",
      "(None, '3', None, None, None, None, 'Appending Data')\n"
     ]
    }
   ],
   "source": [
    "sheet.insert_cols(idx=3, amount=4)\n",
    "print_rows()"
   ]
  },
  {
   "cell_type": "code",
   "execution_count": 7,
   "metadata": {},
   "outputs": [
    {
     "name": "stdout",
     "output_type": "stream",
     "text": [
      "('Section:', 'Topic:')\n",
      "('3', 'Appending Data')\n"
     ]
    }
   ],
   "source": [
    "sheet.delete_cols(idx=3, amount=4)\n",
    "sheet.delete_cols(idx=1)\n",
    "print_rows()"
   ]
  },
  {
   "cell_type": "code",
   "execution_count": 8,
   "metadata": {},
   "outputs": [
    {
     "name": "stdout",
     "output_type": "stream",
     "text": [
      "(None, None)\n",
      "(None, None)\n",
      "(None, None)\n",
      "('Section:', 'Topic:')\n",
      "('3', 'Appending Data')\n"
     ]
    }
   ],
   "source": [
    "# insert/delete rows\n",
    "sheet.insert_rows(idx=1, amount=3)\n",
    "print_rows()"
   ]
  },
  {
   "cell_type": "code",
   "execution_count": 9,
   "metadata": {},
   "outputs": [
    {
     "name": "stdout",
     "output_type": "stream",
     "text": [
      "('Section:', 'Topic:')\n",
      "('3', 'Appending Data')\n"
     ]
    }
   ],
   "source": [
    "sheet.delete_rows(idx=1, amount=3)\n",
    "print_rows()"
   ]
  }
 ],
 "metadata": {
  "kernelspec": {
   "display_name": "Python 3",
   "language": "python",
   "name": "python3"
  },
  "language_info": {
   "codemirror_mode": {
    "name": "ipython",
    "version": 3
   },
   "file_extension": ".py",
   "mimetype": "text/x-python",
   "name": "python",
   "nbconvert_exporter": "python",
   "pygments_lexer": "ipython3",
   "version": "3.8.5"
  }
 },
 "nbformat": 4,
 "nbformat_minor": 4
}
