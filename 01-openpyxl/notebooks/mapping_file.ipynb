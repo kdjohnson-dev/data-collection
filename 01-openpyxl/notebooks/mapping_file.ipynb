{
 "cells": [
  {
   "cell_type": "code",
   "execution_count": 1,
   "metadata": {},
   "outputs": [],
   "source": [
    "# Product fields\n",
    "PRODUCT_ID = 3\n",
    "PRODUCT_PARENT = 4\n",
    "PRODUCT_TITLE = 5\n",
    "PRODUCT_CATEGORY = 6\n",
    "\n",
    "# Review fields\n",
    "REVIEW_ID = 2\n",
    "REVIEW_CUSTOMER = 1\n",
    "REVIEW_STARS = 7\n",
    "REVIEW_HEADLINE = 12\n",
    "REVIEW_BODY = 13\n",
    "REVIEW_DATE =14"
   ]
  }
 ],
 "metadata": {
  "kernelspec": {
   "display_name": "Python 3",
   "language": "python",
   "name": "python3"
  },
  "language_info": {
   "codemirror_mode": {
    "name": "ipython",
    "version": 3
   },
   "file_extension": ".py",
   "mimetype": "text/x-python",
   "name": "python",
   "nbconvert_exporter": "python",
   "pygments_lexer": "ipython3",
   "version": "3.8.5"
  }
 },
 "nbformat": 4,
 "nbformat_minor": 4
}
